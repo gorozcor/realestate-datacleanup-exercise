{
  "cells": [
    {
      "attachments": {},
      "cell_type": "markdown",
      "id": "innocent-university",
      "metadata": {},
      "source": [
        "# Limpieza de bienes raíces\n",
        "\n",
        "Este es un conjunto de datos (dataset) reales que fue descargado usando técnicas de web scraping. La data contiene registros de **Fotocasa**, el cual es uno de los sitios más populares de bienes raíces en España. Por favor no hagas esto (web scraping) a no ser que sea para propósitos académicos.\n",
        "\n",
        "El dataset fue descargado hace algunos años por Henry Navarro y en ningún caso se obtuvo beneficio económico de ello.\n",
        "\n",
        "Contiene miles de datos de casas reales publicadas en la web www.fotocasa.com. Tu objetivo es extraer tanta información como sea posible con el conocimiento que tienes hasta ahora de ciencia de datos, por ejemplo ¿cuál es la casa más cara en todo el dataset?\n",
        "\n",
        "Empecemos precisamente con esa pregunta... ¡Buena suerte!"
      ]
    },
    {
      "attachments": {},
      "cell_type": "markdown",
      "id": "multiple-glass",
      "metadata": {},
      "source": [
        "#### Ejercicio 00. Lee el dataset assets/real_estate.csv e intenta visualizar la tabla (★☆☆)"
      ]
    },
    {
      "cell_type": "code",
      "execution_count": 1,
      "id": "frank-heath",
      "metadata": {},
      "outputs": [
        {
          "data": {
            "text/html": [
              "<div>\n",
              "<style scoped>\n",
              "    .dataframe tbody tr th:only-of-type {\n",
              "        vertical-align: middle;\n",
              "    }\n",
              "\n",
              "    .dataframe tbody tr th {\n",
              "        vertical-align: top;\n",
              "    }\n",
              "\n",
              "    .dataframe thead th {\n",
              "        text-align: right;\n",
              "    }\n",
              "</style>\n",
              "<table border=\"1\" class=\"dataframe\">\n",
              "  <thead>\n",
              "    <tr style=\"text-align: right;\">\n",
              "      <th></th>\n",
              "      <th>Unnamed: 0</th>\n",
              "      <th>id_realEstates</th>\n",
              "      <th>isNew</th>\n",
              "      <th>realEstate_name</th>\n",
              "      <th>phone_realEstate</th>\n",
              "      <th>url_inmueble</th>\n",
              "      <th>rooms</th>\n",
              "      <th>bathrooms</th>\n",
              "      <th>surface</th>\n",
              "      <th>price</th>\n",
              "      <th>...</th>\n",
              "      <th>level4Id</th>\n",
              "      <th>level5Id</th>\n",
              "      <th>level6Id</th>\n",
              "      <th>level7Id</th>\n",
              "      <th>level8Id</th>\n",
              "      <th>accuracy</th>\n",
              "      <th>latitude</th>\n",
              "      <th>longitude</th>\n",
              "      <th>zipCode</th>\n",
              "      <th>customZone</th>\n",
              "    </tr>\n",
              "  </thead>\n",
              "  <tbody>\n",
              "    <tr>\n",
              "      <th>0</th>\n",
              "      <td>1</td>\n",
              "      <td>153771986</td>\n",
              "      <td>False</td>\n",
              "      <td>ferrari 57 inmobiliaria</td>\n",
              "      <td>912177526.0</td>\n",
              "      <td>https://www.fotocasa.es/es/comprar/vivienda/ma...</td>\n",
              "      <td>3.0</td>\n",
              "      <td>2.0</td>\n",
              "      <td>103.0</td>\n",
              "      <td>195000</td>\n",
              "      <td>...</td>\n",
              "      <td>0</td>\n",
              "      <td>0</td>\n",
              "      <td>0</td>\n",
              "      <td>0</td>\n",
              "      <td>0</td>\n",
              "      <td>0</td>\n",
              "      <td>40,2948276786438</td>\n",
              "      <td>-3,44402412135624</td>\n",
              "      <td>NaN</td>\n",
              "      <td>NaN</td>\n",
              "    </tr>\n",
              "    <tr>\n",
              "      <th>1</th>\n",
              "      <td>2</td>\n",
              "      <td>153867863</td>\n",
              "      <td>False</td>\n",
              "      <td>tecnocasa fuenlabrada ferrocarril</td>\n",
              "      <td>916358736.0</td>\n",
              "      <td>https://www.fotocasa.es/es/comprar/vivienda/ma...</td>\n",
              "      <td>3.0</td>\n",
              "      <td>1.0</td>\n",
              "      <td>NaN</td>\n",
              "      <td>89000</td>\n",
              "      <td>...</td>\n",
              "      <td>0</td>\n",
              "      <td>0</td>\n",
              "      <td>0</td>\n",
              "      <td>0</td>\n",
              "      <td>0</td>\n",
              "      <td>1</td>\n",
              "      <td>40,28674</td>\n",
              "      <td>-3,79351</td>\n",
              "      <td>NaN</td>\n",
              "      <td>NaN</td>\n",
              "    </tr>\n",
              "    <tr>\n",
              "      <th>2</th>\n",
              "      <td>3</td>\n",
              "      <td>153430440</td>\n",
              "      <td>False</td>\n",
              "      <td>look find boadilla</td>\n",
              "      <td>916350408.0</td>\n",
              "      <td>https://www.fotocasa.es/es/comprar/vivienda/ma...</td>\n",
              "      <td>2.0</td>\n",
              "      <td>2.0</td>\n",
              "      <td>99.0</td>\n",
              "      <td>390000</td>\n",
              "      <td>...</td>\n",
              "      <td>0</td>\n",
              "      <td>0</td>\n",
              "      <td>0</td>\n",
              "      <td>0</td>\n",
              "      <td>0</td>\n",
              "      <td>0</td>\n",
              "      <td>40,4115646786438</td>\n",
              "      <td>-3,90662252135624</td>\n",
              "      <td>NaN</td>\n",
              "      <td>NaN</td>\n",
              "    </tr>\n",
              "    <tr>\n",
              "      <th>3</th>\n",
              "      <td>4</td>\n",
              "      <td>152776331</td>\n",
              "      <td>False</td>\n",
              "      <td>tecnocasa fuenlabrada ferrocarril</td>\n",
              "      <td>916358736.0</td>\n",
              "      <td>https://www.fotocasa.es/es/comprar/vivienda/ma...</td>\n",
              "      <td>3.0</td>\n",
              "      <td>1.0</td>\n",
              "      <td>86.0</td>\n",
              "      <td>89000</td>\n",
              "      <td>...</td>\n",
              "      <td>0</td>\n",
              "      <td>0</td>\n",
              "      <td>0</td>\n",
              "      <td>0</td>\n",
              "      <td>0</td>\n",
              "      <td>0</td>\n",
              "      <td>40,2853785786438</td>\n",
              "      <td>-3,79508142135624</td>\n",
              "      <td>NaN</td>\n",
              "      <td>NaN</td>\n",
              "    </tr>\n",
              "    <tr>\n",
              "      <th>4</th>\n",
              "      <td>5</td>\n",
              "      <td>153180188</td>\n",
              "      <td>False</td>\n",
              "      <td>ferrari 57 inmobiliaria</td>\n",
              "      <td>912177526.0</td>\n",
              "      <td>https://www.fotocasa.es/es/comprar/vivienda/ma...</td>\n",
              "      <td>2.0</td>\n",
              "      <td>2.0</td>\n",
              "      <td>106.0</td>\n",
              "      <td>172000</td>\n",
              "      <td>...</td>\n",
              "      <td>0</td>\n",
              "      <td>0</td>\n",
              "      <td>0</td>\n",
              "      <td>0</td>\n",
              "      <td>0</td>\n",
              "      <td>0</td>\n",
              "      <td>40,2998774864376</td>\n",
              "      <td>-3,45226301356237</td>\n",
              "      <td>NaN</td>\n",
              "      <td>NaN</td>\n",
              "    </tr>\n",
              "    <tr>\n",
              "      <th>...</th>\n",
              "      <td>...</td>\n",
              "      <td>...</td>\n",
              "      <td>...</td>\n",
              "      <td>...</td>\n",
              "      <td>...</td>\n",
              "      <td>...</td>\n",
              "      <td>...</td>\n",
              "      <td>...</td>\n",
              "      <td>...</td>\n",
              "      <td>...</td>\n",
              "      <td>...</td>\n",
              "      <td>...</td>\n",
              "      <td>...</td>\n",
              "      <td>...</td>\n",
              "      <td>...</td>\n",
              "      <td>...</td>\n",
              "      <td>...</td>\n",
              "      <td>...</td>\n",
              "      <td>...</td>\n",
              "      <td>...</td>\n",
              "      <td>...</td>\n",
              "    </tr>\n",
              "    <tr>\n",
              "      <th>15330</th>\n",
              "      <td>15331</td>\n",
              "      <td>153901377</td>\n",
              "      <td>False</td>\n",
              "      <td>infocasa consulting</td>\n",
              "      <td>911360461.0</td>\n",
              "      <td>https://www.fotocasa.es/es/comprar/vivienda/ma...</td>\n",
              "      <td>2.0</td>\n",
              "      <td>1.0</td>\n",
              "      <td>96.0</td>\n",
              "      <td>259470</td>\n",
              "      <td>...</td>\n",
              "      <td>0</td>\n",
              "      <td>0</td>\n",
              "      <td>0</td>\n",
              "      <td>0</td>\n",
              "      <td>0</td>\n",
              "      <td>0</td>\n",
              "      <td>40,45416</td>\n",
              "      <td>-3,70286</td>\n",
              "      <td>NaN</td>\n",
              "      <td>NaN</td>\n",
              "    </tr>\n",
              "    <tr>\n",
              "      <th>15331</th>\n",
              "      <td>15332</td>\n",
              "      <td>150394373</td>\n",
              "      <td>False</td>\n",
              "      <td>inmobiliaria pulpon</td>\n",
              "      <td>912788039.0</td>\n",
              "      <td>https://www.fotocasa.es/es/comprar/vivienda/ma...</td>\n",
              "      <td>3.0</td>\n",
              "      <td>1.0</td>\n",
              "      <td>150.0</td>\n",
              "      <td>165000</td>\n",
              "      <td>...</td>\n",
              "      <td>0</td>\n",
              "      <td>0</td>\n",
              "      <td>0</td>\n",
              "      <td>0</td>\n",
              "      <td>0</td>\n",
              "      <td>0</td>\n",
              "      <td>40,36652</td>\n",
              "      <td>-3,48951</td>\n",
              "      <td>NaN</td>\n",
              "      <td>NaN</td>\n",
              "    </tr>\n",
              "    <tr>\n",
              "      <th>15332</th>\n",
              "      <td>15333</td>\n",
              "      <td>153901397</td>\n",
              "      <td>False</td>\n",
              "      <td>tecnocasa torrelodones</td>\n",
              "      <td>912780348.0</td>\n",
              "      <td>https://www.fotocasa.es/es/comprar/vivienda/ma...</td>\n",
              "      <td>4.0</td>\n",
              "      <td>2.0</td>\n",
              "      <td>175.0</td>\n",
              "      <td>495000</td>\n",
              "      <td>...</td>\n",
              "      <td>0</td>\n",
              "      <td>0</td>\n",
              "      <td>0</td>\n",
              "      <td>0</td>\n",
              "      <td>0</td>\n",
              "      <td>0</td>\n",
              "      <td>40,57444</td>\n",
              "      <td>-3,92124</td>\n",
              "      <td>NaN</td>\n",
              "      <td>NaN</td>\n",
              "    </tr>\n",
              "    <tr>\n",
              "      <th>15333</th>\n",
              "      <td>15334</td>\n",
              "      <td>152607440</td>\n",
              "      <td>False</td>\n",
              "      <td>inmobiliaria pulpon</td>\n",
              "      <td>912788039.0</td>\n",
              "      <td>https://www.fotocasa.es/es/comprar/vivienda/ma...</td>\n",
              "      <td>3.0</td>\n",
              "      <td>2.0</td>\n",
              "      <td>101.0</td>\n",
              "      <td>195000</td>\n",
              "      <td>...</td>\n",
              "      <td>0</td>\n",
              "      <td>0</td>\n",
              "      <td>0</td>\n",
              "      <td>0</td>\n",
              "      <td>0</td>\n",
              "      <td>0</td>\n",
              "      <td>40,36967</td>\n",
              "      <td>-3,48105</td>\n",
              "      <td>NaN</td>\n",
              "      <td>NaN</td>\n",
              "    </tr>\n",
              "    <tr>\n",
              "      <th>15334</th>\n",
              "      <td>15335</td>\n",
              "      <td>153901356</td>\n",
              "      <td>False</td>\n",
              "      <td>infocasa consulting</td>\n",
              "      <td>911360461.0</td>\n",
              "      <td>https://www.fotocasa.es/es/comprar/vivienda/ma...</td>\n",
              "      <td>3.0</td>\n",
              "      <td>2.0</td>\n",
              "      <td>152.0</td>\n",
              "      <td>765000</td>\n",
              "      <td>...</td>\n",
              "      <td>0</td>\n",
              "      <td>0</td>\n",
              "      <td>0</td>\n",
              "      <td>0</td>\n",
              "      <td>0</td>\n",
              "      <td>0</td>\n",
              "      <td>40,45773</td>\n",
              "      <td>-3,69068</td>\n",
              "      <td>NaN</td>\n",
              "      <td>NaN</td>\n",
              "    </tr>\n",
              "  </tbody>\n",
              "</table>\n",
              "<p>15335 rows × 37 columns</p>\n",
              "</div>"
            ],
            "text/plain": [
              "       Unnamed: 0  id_realEstates  isNew                    realEstate_name  \\\n",
              "0               1       153771986  False            ferrari 57 inmobiliaria   \n",
              "1               2       153867863  False  tecnocasa fuenlabrada ferrocarril   \n",
              "2               3       153430440  False                 look find boadilla   \n",
              "3               4       152776331  False  tecnocasa fuenlabrada ferrocarril   \n",
              "4               5       153180188  False            ferrari 57 inmobiliaria   \n",
              "...           ...             ...    ...                                ...   \n",
              "15330       15331       153901377  False                infocasa consulting   \n",
              "15331       15332       150394373  False                inmobiliaria pulpon   \n",
              "15332       15333       153901397  False             tecnocasa torrelodones   \n",
              "15333       15334       152607440  False                inmobiliaria pulpon   \n",
              "15334       15335       153901356  False                infocasa consulting   \n",
              "\n",
              "       phone_realEstate                                       url_inmueble  \\\n",
              "0           912177526.0  https://www.fotocasa.es/es/comprar/vivienda/ma...   \n",
              "1           916358736.0  https://www.fotocasa.es/es/comprar/vivienda/ma...   \n",
              "2           916350408.0  https://www.fotocasa.es/es/comprar/vivienda/ma...   \n",
              "3           916358736.0  https://www.fotocasa.es/es/comprar/vivienda/ma...   \n",
              "4           912177526.0  https://www.fotocasa.es/es/comprar/vivienda/ma...   \n",
              "...                 ...                                                ...   \n",
              "15330       911360461.0  https://www.fotocasa.es/es/comprar/vivienda/ma...   \n",
              "15331       912788039.0  https://www.fotocasa.es/es/comprar/vivienda/ma...   \n",
              "15332       912780348.0  https://www.fotocasa.es/es/comprar/vivienda/ma...   \n",
              "15333       912788039.0  https://www.fotocasa.es/es/comprar/vivienda/ma...   \n",
              "15334       911360461.0  https://www.fotocasa.es/es/comprar/vivienda/ma...   \n",
              "\n",
              "       rooms  bathrooms  surface   price  ... level4Id level5Id level6Id  \\\n",
              "0        3.0        2.0    103.0  195000  ...        0        0        0   \n",
              "1        3.0        1.0      NaN   89000  ...        0        0        0   \n",
              "2        2.0        2.0     99.0  390000  ...        0        0        0   \n",
              "3        3.0        1.0     86.0   89000  ...        0        0        0   \n",
              "4        2.0        2.0    106.0  172000  ...        0        0        0   \n",
              "...      ...        ...      ...     ...  ...      ...      ...      ...   \n",
              "15330    2.0        1.0     96.0  259470  ...        0        0        0   \n",
              "15331    3.0        1.0    150.0  165000  ...        0        0        0   \n",
              "15332    4.0        2.0    175.0  495000  ...        0        0        0   \n",
              "15333    3.0        2.0    101.0  195000  ...        0        0        0   \n",
              "15334    3.0        2.0    152.0  765000  ...        0        0        0   \n",
              "\n",
              "      level7Id level8Id accuracy          latitude          longitude zipCode  \\\n",
              "0            0        0        0  40,2948276786438  -3,44402412135624     NaN   \n",
              "1            0        0        1          40,28674           -3,79351     NaN   \n",
              "2            0        0        0  40,4115646786438  -3,90662252135624     NaN   \n",
              "3            0        0        0  40,2853785786438  -3,79508142135624     NaN   \n",
              "4            0        0        0  40,2998774864376  -3,45226301356237     NaN   \n",
              "...        ...      ...      ...               ...                ...     ...   \n",
              "15330        0        0        0          40,45416           -3,70286     NaN   \n",
              "15331        0        0        0          40,36652           -3,48951     NaN   \n",
              "15332        0        0        0          40,57444           -3,92124     NaN   \n",
              "15333        0        0        0          40,36967           -3,48105     NaN   \n",
              "15334        0        0        0          40,45773           -3,69068     NaN   \n",
              "\n",
              "      customZone  \n",
              "0            NaN  \n",
              "1            NaN  \n",
              "2            NaN  \n",
              "3            NaN  \n",
              "4            NaN  \n",
              "...          ...  \n",
              "15330        NaN  \n",
              "15331        NaN  \n",
              "15332        NaN  \n",
              "15333        NaN  \n",
              "15334        NaN  \n",
              "\n",
              "[15335 rows x 37 columns]"
            ]
          },
          "execution_count": 1,
          "metadata": {},
          "output_type": "execute_result"
        }
      ],
      "source": [
        "import pandas as pd\n",
        "\n",
        "# Este archivo CSV contiene puntos y comas en lugar de comas como separadores\n",
        "ds = pd.read_csv('assets/real_estate.csv', sep=';')\n",
        "ds"
      ]
    },
    {
      "attachments": {},
      "cell_type": "markdown",
      "id": "latin-guest",
      "metadata": {},
      "source": [
        "#### Ejercicio 01. ¿Cuál es la casa más cara en todo el dataset? (★☆☆)\n",
        "\n",
        "Imprime la dirección y el precio de la casa seleccionada. Por ejemplo:\n",
        "\n",
        "`La casa con dirección en Calle del Prado, Nº20 es la más cara y su precio es de 5000000 USD`"
      ]
    },
    {
      "cell_type": "code",
      "execution_count": 5,
      "id": "developing-optimum",
      "metadata": {},
      "outputs": [
        {
          "name": "stdout",
          "output_type": "stream",
          "text": [
            "La casa con dirección en El Escorial es la mas cara y su precio es de 8500000\n"
          ]
        }
      ],
      "source": [
        "# TODO\n",
        "import pandas as pd\n",
        "import numpy as np\n",
        "ds = pd.read_csv('assets/real_estate.csv', sep=';')\n",
        "array = np.array(pd.to_numeric(ds['price']))\n",
        "ind_max = np.nanargmax(array)\n",
        "objeto = ds.iloc[ind_max]\n",
        "precio = objeto.get(\"price\")\n",
        "lugar = objeto.get(\"address\")\n",
        "print(f\"La casa con dirección en {lugar} es la mas cara y su precio es de {precio}\")\n"
      ]
    },
    {
      "attachments": {},
      "cell_type": "markdown",
      "id": "lesser-cosmetic",
      "metadata": {},
      "source": [
        "#### Ejercicio 02. ¿Cuál es la casa más barata del dataset? (★☆☆)\n",
        "\n",
        "Imprime la dirección y el precio de la casa seleccionada. Por ejemplo:\n",
        "\n",
        "`La casa con dirección en Calle Alcalá, Nº58 es la más barata y su precio es de 12000 USD`"
      ]
    },
    {
      "cell_type": "code",
      "execution_count": 10,
      "id": "lovely-oasis",
      "metadata": {},
      "outputs": [
        {
          "name": "stdout",
          "output_type": "stream",
          "text": [
            "La casa con dirección en Berlin, Coslada es la mas barata y su precio es de 600\n"
          ]
        }
      ],
      "source": [
        "# TODO\n",
        "import pandas as pd\n",
        "import numpy as np\n",
        "ds = pd.read_csv('assets/real_estate.csv', sep=';')\n",
        "filtrado = ds[ds['price'] != 0]\n",
        "array = np.array(pd.to_numeric(filtrado['price']))\n",
        "ind_min = np.nanargmin(array)\n",
        "objeto = filtrado.iloc[ind_min]\n",
        "precio = objeto.get(\"price\")\n",
        "lugar = objeto.get(\"address\")\n",
        "print(f\"La casa con dirección en {lugar} es la mas barata y su precio es de {precio}\")\n",
        "\n"
      ]
    },
    {
      "attachments": {},
      "cell_type": "markdown",
      "id": "compliant-fellowship",
      "metadata": {},
      "source": [
        "#### Ejercicio 03. ¿Cuál es la casa más grande y la más pequeña del dataset? (★☆☆)\n",
        "\n",
        "Imprime la dirección y el área de las casas seleccionadas. Por ejemplo:\n",
        "\n",
        "`La casa más grande está ubicada en Calle Gran Vía, Nº38 y su superficie es de 5000 metros`\n",
        "\n",
        "`La casa más pequeña está ubicada en Calle Mayor, Nº12 y su superficie es de 200 metros`"
      ]
    },
    {
      "cell_type": "code",
      "execution_count": 16,
      "id": "every-tiffany",
      "metadata": {},
      "outputs": [
        {
          "name": "stdout",
          "output_type": "stream",
          "text": [
            "La casa mas grande esta ubicada en Sevilla la Nueva y su superficie es de 249000.0\n",
            "La casa mas pequeña esta ubicada en Calle Amparo,  Madrid Capital y su superficie es de 15.0\n"
          ]
        }
      ],
      "source": [
        "# TODO\n",
        "import pandas as pd\n",
        "import numpy as np\n",
        "ds = pd.read_csv('assets/real_estate.csv', sep=';')\n",
        "array = np.array(pd.to_numeric(ds['surface']))\n",
        "ind_max = np.nanargmax(array)\n",
        "ind_min = np.nanargmin(array)\n",
        "objeto_max = ds.iloc[ind_max]\n",
        "objeto_min = ds.iloc[ind_min]\n",
        "lugar_max = objeto_max.get('address')\n",
        "lugar_min = objeto_min.get('address')\n",
        "sup_max = objeto_max.get(\"surface\")\n",
        "sup_min = objeto_min.get('surface')\n",
        "print(f\"La casa mas grande esta ubicada en {lugar_max} y su superficie es de {sup_max}\")\n",
        "print(f\"La casa mas pequeña esta ubicada en {lugar_min} y su superficie es de {sup_min}\")"
      ]
    },
    {
      "attachments": {},
      "cell_type": "markdown",
      "id": "danish-spirit",
      "metadata": {},
      "source": [
        "#### Ejercicio 04. ¿Cuantas poblaciones (columna level5) contiene el dataset? (★☆☆)\n",
        "\n",
        "Imprime el nombre de las poblaciones separadas por coma. Por ejemplo:\n",
        "\n",
        "`> print(populations)`\n",
        "\n",
        "`population1, population2, population3, ...`"
      ]
    },
    {
      "cell_type": "code",
      "execution_count": 25,
      "id": "exciting-accreditation",
      "metadata": {},
      "outputs": [
        {
          "name": "stdout",
          "output_type": "stream",
          "text": [
            " Madrid Capital, Ajalvir, Alcalá de Henares, Alcobendas, Alcorcón, Aldea del Fresno, Algete, Alpedrete, Ambite, Anchuelo, Aranjuez, Arganda del Rey, Arroyomolinos (Madrid), Batres, Becerril de la Sierra, Belmonte de Tajo, Boadilla del Monte, Braojos, Brea de Tajo, Brunete, Buitrago del Lozoya, Bustarviejo, Cabanillas de la Sierra, Cadalso de los Vidrios, Camarma de Esteruelas, Campo Real, Canencia, Carabaña, Casarrubuelos, Cenicientos, Cercedilla, Chapinería, Chinchón, Ciempozuelos, Cobeña, Collado Mediano, Collado Villalba, Colmenar Viejo, Colmenar de Oreja, Colmenar del Arroyo, Colmenarejo, Corpa, Coslada, Cubas de la Sagra, Daganzo de Arriba, El Atazar, El Berrueco, El Boalo - Cerceda – Mataelpino, El Escorial, El Molar (Madrid), El Vellón, El Álamo, Estremera, Fresnedillas de la Oliva, Fresno de Torote, Fresno de Torote - Serracines, Fuenlabrada, Fuente El Saz de Jarama, Fuentidueña de Tajo, Galapagar, Garganta de los Montes, Gargantilla del Lozoya, Gascones, Getafe, Griñón, Guadalix de la Sierra, Guadarrama, Horcajo de la Sierra, Hoyo de Manzanares, Humanes de Madrid, La Cabrera, La Hiruela, Las Rozas de Madrid, Leganés, Loeches, Los Molinos, Los Santos de la Humosa, Lozoya, Lozoyuela-navas-sieteiglesias, Madarcos, Majadahonda, Manzanares El Real, Meco, Mejorada del Campo, Miraflores de la Sierra, Montejo de la Sierra, Moraleja de Enmedio, Moralzarzal, Morata de Tajuña, Móstoles, Navacerrada, Navalafuente, Navalagamella, Navalcarnero, Navarredonda, Navas del Rey, Nuevo Baztán, Orusco de Tajuña, Paracuellos de Jarama, Parla, Patones, Pedrezuela, Pelayos de la Presa, Perales de Tajuña, Pezuela de las Torres, Pinilla del Valle, Pinto, Piñuécar-gandullas, Pozuelo de Alarcón, Pozuelo del Rey, Puentes Viejas, Quijorna, Rascafría, Redueña, Ribatejada, Rivas-vaciamadrid, Robledo de Chavela, Robregordo, San Agustín del Guadalix, San Fernando de Henares, San Lorenzo de El Escorial, San Martín de Valdeiglesias, San Martín de la Vega, San Sebastián de los Reyes, Santa María de la Alameda, Santorcaz, Serranillos del Valle, Sevilla la Nueva, Soto del Real, Talamanca de Jarama, Tielmes, Titulcia, Torrejón de Ardoz, Torrejón de Velasco, Torrejón de la Calzada, Torrelaguna, Torrelodones, Torremocha de Jarama, Torres de la Alameda, Tres Cantos, Valdaracete, Valdeavero, Valdelaguna, Valdemanco, Valdemaqueda, Valdemorillo, Valdemoro, Valdeolmos-Alalpardo, Valdepiélagos, Valdetorres de Jarama, Valdilecha, Valverde de Alcalá, Velilla de San Antonio, Venturada, Villa del Prado, Villaconejos, Villalbilla, Villamanrique de Tajo, Villamanta, Villamantilla, Villanueva de Perales, Villanueva de la Cañada, Villanueva del Pardillo, Villar del Olmo, Villarejo de Salvanés, Villaviciosa de Odón, Villavieja del Lozoya, Zarzalejo\n",
            "168\n"
          ]
        }
      ],
      "source": [
        "# TODO\n",
        "import pandas as pd\n",
        "import numpy as np\n",
        "ds = pd.read_csv('assets/real_estate.csv', sep=';')\n",
        "array = np.array(ds[\"level5\"])\n",
        "filtro = np.unique(array)\n",
        "print(', '.join(filtro))"
      ]
    },
    {
      "attachments": {},
      "cell_type": "markdown",
      "id": "crazy-blame",
      "metadata": {},
      "source": [
        "#### Ejercicio 05. ¿El dataset contiene valores no admitidos (NAs)? (★☆☆)\n",
        "\n",
        "Imprima un booleano (`True` o `False`) seguido de la fila/columna que contiene el NAs."
      ]
    },
    {
      "cell_type": "code",
      "execution_count": null,
      "id": "transparent-poetry",
      "metadata": {},
      "outputs": [],
      "source": [
        "# TODO\n",
        "import pandas as pd\n",
        "import numpy as np\n",
        "ds = pd.read_csv('assets/real_estate.csv', sep=';')\n",
        "posicion = ds.isna()\n",
        "for fi_ind, fila in posicion.iterrows():\n",
        "    for col_ind, is_nan in enumerate(fila):\n",
        "        if is_nan:\n",
        "            print(f\"NAs encontrado en {fi_ind}/{ds.columns[col_ind]}\")"
      ]
    },
    {
      "attachments": {},
      "cell_type": "markdown",
      "id": "italic-hydrogen",
      "metadata": {},
      "source": [
        "#### Ejercicio 06. Elimina los NAs del dataset, si aplica (★★☆)\n",
        "\n",
        "Imprima una comparación entre las dimensiones del DataFrame original versus el DataFrame después de las eliminaciones.\n"
      ]
    },
    {
      "cell_type": "code",
      "execution_count": 35,
      "id": "administrative-roads",
      "metadata": {},
      "outputs": [
        {
          "name": "stdout",
          "output_type": "stream",
          "text": [
            "Dimensiones sin limpiar: (15335, 37)\n",
            "Dimensiones despues de limpiar: (0, 37)\n"
          ]
        }
      ],
      "source": [
        "# TODO\n",
        "import pandas as pd\n",
        "import numpy as np\n",
        "ds = pd.read_csv('assets/real_estate.csv', sep=';')\n",
        "original = ds.shape\n",
        "#Mejor practica aplicar un valor desconocido al Na\n",
        "#unk = ds.fillna(\"Unknown\")\n",
        "filtro = ds.dropna() \n",
        "shape_fil = filtro.shape\n",
        "print(f\"Dimensiones sin limpiar: {original}\")\n",
        "print(f\"Dimensiones despues de limpiar: {shape_fil}\")"
      ]
    },
    {
      "attachments": {},
      "cell_type": "markdown",
      "id": "middle-china",
      "metadata": {},
      "source": [
        "#### Ejercicio 07. ¿Cuál la media de precios en la población (columna level5) de \"Arroyomolinos (Madrid)\"? (★★☆)\n",
        "\n",
        "Imprima el valor obtenido."
      ]
    },
    {
      "cell_type": "code",
      "execution_count": 1,
      "id": "nuclear-belief",
      "metadata": {},
      "outputs": [
        {
          "name": "stdout",
          "output_type": "stream",
          "text": [
            "294541.59854014596\n"
          ]
        }
      ],
      "source": [
        "# TODO\n",
        "import pandas as pd\n",
        "import numpy as np\n",
        "ds = pd.read_csv('assets/real_estate.csv', sep=';')\n",
        "array = ds[ds['level5'] == \"Arroyomolinos (Madrid)\"]\n",
        "media = array['price'].mean()\n",
        "print(media)\n"
      ]
    },
    {
      "attachments": {},
      "cell_type": "markdown",
      "id": "concerned-radical",
      "metadata": {},
      "source": [
        "#### Ejercicio 08. Trazar el histograma de los precios para la población (level5 column) de \"Arroyomolinos (Madrid)\" y explica qué observas (★★☆)\n",
        "\n",
        "Imprime el histograma de los precios y escribe en la celda del Markdown un breve análisis del trazado.\n"
      ]
    },
    {
      "cell_type": "code",
      "execution_count": 12,
      "id": "sudden-message",
      "metadata": {},
      "outputs": [
        {
          "data": {
            "image/png": "[encoded data removed]",
            "text/plain": [
              "<Figure size 1000x500 with 1 Axes>"
            ]
          },
          "metadata": {},
          "output_type": "display_data"
        }
      ],
      "source": [
        "# TODO: Code\n",
        "import pandas as pd\n",
        "import numpy as np\n",
        "import matplotlib.pyplot as plt\n",
        "ds = pd.read_csv('assets/real_estate.csv', sep=';')\n",
        "array = ds[ds['level5'] == \"Arroyomolinos (Madrid)\"]\n",
        "plt.figure(figsize=(10,5))\n",
        "plt.hist(array['price'], bins=10, color='gray', edgecolor='black')\n",
        "plt.title(\"Histograma de Precios en Arroyomolinos (Madrid)\")\n",
        "plt.xlabel(\"Precio\")\n",
        "plt.ylabel(\"Frecuencia\")\n",
        "plt.grid(False)\n",
        "plt.show()\n"
      ]
    },
    {
      "attachments": {},
      "cell_type": "markdown",
      "id": "impressed-combination",
      "metadata": {},
      "source": [
        "Se observa como la mayoría de las viviendas se concentran en un rango en particular, lo que indica una tendencia a precios mas \"accesibles\" en comparación a los valores que se encuentran fuera que indican propiedades mas costosas en menor cantidad, y algunas en \"0\" que podrían ser error de la Base de Datos"
      ]
    },
    {
      "attachments": {},
      "cell_type": "markdown",
      "id": "actual-edinburgh",
      "metadata": {},
      "source": [
        "#### Ejercicio 09. ¿Son los precios promedios de \"Valdemorillo\" y \"Galapagar\" los mismos? (★★☆)\n",
        "\n",
        "Imprime ambos promedios y escribe una conclusión sobre ellos."
      ]
    },
    {
      "cell_type": "code",
      "execution_count": 14,
      "id": "numeric-commerce",
      "metadata": {},
      "outputs": [
        {
          "name": "stdout",
          "output_type": "stream",
          "text": [
            "363860.2931034483\n",
            "360063.20238095237\n"
          ]
        }
      ],
      "source": [
        "# TODO\n",
        "import pandas as pd\n",
        "import numpy as np\n",
        "import matplotlib.pyplot as plt\n",
        "ds = pd.read_csv('assets/real_estate.csv', sep=';')\n",
        "array1 = ds[ds['level5'] == \"Valdemorillo\"]\n",
        "array2 = ds[ds['level5'] == \"Galapagar\"]\n",
        "promedio1 = array1['price'].mean()\n",
        "promedio2 = array2['price'].mean()\n",
        "print(promedio1)\n",
        "print(promedio2)"
      ]
    },
    {
      "cell_type": "markdown",
      "id": "5dc538c4",
      "metadata": {},
      "source": [
        "Aunque los promedios no son iguales, estan bastante cercanos uno del otro lo que indica similitud de precios en estas localidades."
      ]
    },
    {
      "attachments": {},
      "cell_type": "markdown",
      "id": "lonely-article",
      "metadata": {},
      "source": [
        "#### Ejercicio 10. ¿Son los promedios de precio por metro cuadrado (precio/m2) de \"Valdemorillo\" y \"Galapagar\" los mismos? (★★☆)\n",
        "\n",
        "Imprime ambos promedios de precio por metro cuadrado y escribe una conclusión sobre ellos.\n",
        "\n",
        "Pista: Crea una nueva columna llamada `pps` (*price per square* o precio por metro cuadrado) y luego analiza los valores."
      ]
    },
    {
      "cell_type": "code",
      "execution_count": 15,
      "id": "hourly-globe",
      "metadata": {},
      "outputs": [
        {
          "name": "stdout",
          "output_type": "stream",
          "text": [
            "1317.9502109024986\n",
            "1606.3240303094024\n"
          ]
        }
      ],
      "source": [
        "# TODO\n",
        "import pandas as pd\n",
        "import numpy as np\n",
        "import matplotlib.pyplot as plt\n",
        "ds = pd.read_csv('assets/real_estate.csv', sep=';')\n",
        "ds['pps'] = ds['price'] / ds['surface']\n",
        "array1 = ds[ds['level5'] == \"Valdemorillo\"]\n",
        "array2 = ds[ds['level5'] == \"Galapagar\"]\n",
        "promedio1 = array1['pps'].mean()\n",
        "promedio2 = array2['pps'].mean()\n",
        "print(promedio1)\n",
        "print(promedio2)\n"
      ]
    },
    {
      "cell_type": "markdown",
      "id": "3385e911",
      "metadata": {},
      "source": [
        "Los promedios de pps no son los mismos, y se observa que Galapagar tiene un precio promedio significativamente mas alto, lo que indica que estas pueden ser percibidas como mas valiosas que las de Valdemorillo"
      ]
    },
    {
      "attachments": {},
      "cell_type": "markdown",
      "id": "pleasant-invite",
      "metadata": {},
      "source": [
        "#### Ejercicio 11. Analiza la relación entre la superficie y el precio de las casas. (★★☆)\n",
        "\n",
        "Pista: Puedes hacer un `scatter plot` y luego escribir una conclusión al respecto."
      ]
    },
    {
      "cell_type": "code",
      "execution_count": null,
      "id": "common-drilling",
      "metadata": {},
      "outputs": [],
      "source": [
        "# TODO: Código"
      ]
    },
    {
      "attachments": {},
      "cell_type": "markdown",
      "id": "ahead-liquid",
      "metadata": {},
      "source": [
        "**TODO: Markdown**. Para escribir aquí, haz doble clic en esta celda, elimina este contenido y coloca lo que quieras escribir. Luego ejecuta la celda."
      ]
    },
    {
      "attachments": {},
      "cell_type": "markdown",
      "id": "coordinate-sunrise",
      "metadata": {},
      "source": [
        "#### Ejercicio 12. ¿Cuántas agencia de bienes raíces contiene el dataset? (★★☆)\n",
        "\n",
        "Imprime el valor obtenido."
      ]
    },
    {
      "cell_type": "code",
      "execution_count": null,
      "id": "valid-honolulu",
      "metadata": {},
      "outputs": [],
      "source": [
        "# TODO"
      ]
    },
    {
      "attachments": {},
      "cell_type": "markdown",
      "id": "binding-ebony",
      "metadata": {},
      "source": [
        "#### Ejercicio 13. ¿Cuál es la población (columna level5) que contiene la mayor cantidad de casas?(★★☆)\n",
        "\n",
        "Imprima la población y el número de casas."
      ]
    },
    {
      "cell_type": "code",
      "execution_count": null,
      "id": "static-perry",
      "metadata": {},
      "outputs": [],
      "source": [
        "# TODO"
      ]
    },
    {
      "attachments": {},
      "cell_type": "markdown",
      "id": "entire-classification",
      "metadata": {},
      "source": [
        "#### Ejercicio 14. Ahora vamos a trabajar con el \"cinturón sur\" de Madrid. Haz un subconjunto del DataFrame original que contenga las siguientes poblaciones (columna level5): \"Fuenlabrada\", \"Leganés\", \"Getafe\", \"Alcorcón\" (★★☆)\n",
        "\n",
        "Pista: Filtra el DataFrame original usando la columna `level5` y la función `isin`."
      ]
    },
    {
      "cell_type": "code",
      "execution_count": null,
      "id": "binary-input",
      "metadata": {},
      "outputs": [],
      "source": [
        "# TODO"
      ]
    },
    {
      "attachments": {},
      "cell_type": "markdown",
      "id": "severe-fisher",
      "metadata": {},
      "source": [
        "#### Ejercicio 15. Traza un gráfico de barras de la mediana de los precios y explica lo que observas (debes usar el subconjunto obtenido del Ejercicio 14) (★★★)\n",
        "\n",
        "Imprima un gráfico de barras de la mediana de precios y escriba en la celda Markdown un breve análisis sobre el gráfico."
      ]
    },
    {
      "cell_type": "code",
      "execution_count": null,
      "id": "lyric-bunch",
      "metadata": {},
      "outputs": [],
      "source": [
        "# TODO: Code"
      ]
    },
    {
      "attachments": {},
      "cell_type": "markdown",
      "id": "sublime-newspaper",
      "metadata": {},
      "source": [
        "**TODO: Markdown**. Para escribir aquí, haz doble clic en esta celda, elimina este contenido y coloca lo que quieras escribir. Luego ejecuta la celda."
      ]
    },
    {
      "attachments": {},
      "cell_type": "markdown",
      "id": "speaking-diamond",
      "metadata": {},
      "source": [
        "#### Ejercicio 16. Calcula la media y la varianza de muestra para las siguientes variables: precio, habitaciones, superficie y baños (debes usar el subconjunto obtenido del Ejercicio 14) (★★★)\n",
        "\n",
        "Imprime ambos valores por cada variable."
      ]
    },
    {
      "cell_type": "code",
      "execution_count": null,
      "id": "random-feeling",
      "metadata": {},
      "outputs": [],
      "source": [
        "# TODO"
      ]
    },
    {
      "attachments": {},
      "cell_type": "markdown",
      "id": "revolutionary-matrix",
      "metadata": {},
      "source": [
        "#### Ejercicio 17. ¿Cuál es la casa más cara de cada población? Debes usar el subset obtenido en la pregunta 14 (★★☆)\n",
        "\n",
        "Imprime tanto la dirección como el precio de la casa seleccionada de cada población. Puedes imprimir un DataFrame o una sola línea para cada población."
      ]
    },
    {
      "cell_type": "code",
      "execution_count": null,
      "id": "fifteen-browse",
      "metadata": {},
      "outputs": [],
      "source": [
        "# TODO"
      ]
    },
    {
      "attachments": {},
      "cell_type": "markdown",
      "id": "activated-knight",
      "metadata": {},
      "source": [
        "#### Ejercicio 18. Normaliza la variable de precios para cada población y traza los 4 histogramas en el mismo gráfico (debes usar el subconjunto obtenido en la pregunta 14) (★★★)\n",
        "\n",
        "Para el método de normalización, puedes usar el que consideres adecuado, no hay una única respuesta correcta para esta pregunta. Imprime el gráfico y escribe en la celda de Markdown un breve análisis sobre el gráfico.\n",
        "\n",
        "Pista: Puedes ayudarte revisando la demostración multihist de Matplotlib."
      ]
    },
    {
      "cell_type": "code",
      "execution_count": null,
      "id": "civic-meditation",
      "metadata": {},
      "outputs": [],
      "source": [
        "# TODO"
      ]
    },
    {
      "attachments": {},
      "cell_type": "markdown",
      "id": "precise-heavy",
      "metadata": {},
      "source": [
        "**TODO: Markdown**. Para escribir aquí, haz doble clic en esta celda, elimina este contenido y coloca lo que quieras escribir. Luego ejecuta la celda."
      ]
    },
    {
      "attachments": {},
      "cell_type": "markdown",
      "id": "patent-jonathan",
      "metadata": {},
      "source": [
        "#### Ejercicio 19. ¿Qué puedes decir sobre el precio por metro cuadrado (precio/m2) entre los municipios de 'Getafe' y 'Alcorcón'? Debes usar el subconjunto obtenido en la pregunta 14 (★★☆)\n",
        "\n",
        "Pista: Crea una nueva columna llamada `pps` (price per square en inglés) y luego analiza los valores"
      ]
    },
    {
      "cell_type": "code",
      "execution_count": null,
      "id": "initial-liverpool",
      "metadata": {},
      "outputs": [],
      "source": [
        "# TODO"
      ]
    },
    {
      "attachments": {},
      "cell_type": "markdown",
      "id": "enhanced-moscow",
      "metadata": {},
      "source": [
        "#### Ejercicio 20. Realiza el mismo gráfico para 4 poblaciones diferentes (columna level5) y colócalos en el mismo gráfico. Debes usar el subconjunto obtenido en la pregunta 14 (★★☆) \n",
        "Pista: Haz un diagrama de dispersión de cada población usando subgráficos (subplots)."
      ]
    },
    {
      "cell_type": "code",
      "execution_count": null,
      "id": "accepting-airfare",
      "metadata": {},
      "outputs": [],
      "source": [
        "# TODO"
      ]
    },
    {
      "attachments": {},
      "cell_type": "markdown",
      "id": "blocked-effects",
      "metadata": {},
      "source": [
        "#### Ejercicio 21. Realiza un trazado de las coordenadas (columnas latitud y longitud) del cinturón sur de Madrid por color de cada población (debes usar el subconjunto obtenido del Ejercicio 14) (★★★★)\n",
        "\n",
        "Ejecuta la siguiente celda y luego comienza a codear en la siguiente. Debes implementar un código simple que transforme las columnas de coordenadas en un diccionario de Python (agrega más información si es necesario) y agrégala al mapa."
      ]
    },
    {
      "cell_type": "code",
      "execution_count": null,
      "id": "headed-privacy",
      "metadata": {},
      "outputs": [],
      "source": [
        "from ipyleaflet import Map, basemaps\n",
        "\n",
        "# Mapa centrado en (60 grados latitud y -2.2 grados longitud)\n",
        "# Latitud, longitud\n",
        "map = Map(center = (60, -2.2), zoom = 2, min_zoom = 1, max_zoom = 20, \n",
        "    basemap=basemaps.Stamen.Terrain)\n",
        "map"
      ]
    },
    {
      "cell_type": "code",
      "execution_count": null,
      "id": "present-mistress",
      "metadata": {},
      "outputs": [],
      "source": [
        "## Aquí: traza la coordenadas de los estados\n",
        "\n",
        "## PON TU CÓDIGO AQUÍ:\n"
      ]
    }
  ],
  "metadata": {
    "kernelspec": {
      "display_name": "Python 3",
      "language": "python",
      "name": "python3"
    },
    "language_info": {
      "codemirror_mode": {
        "name": "ipython",
        "version": 3
      },
      "file_extension": ".py",
      "mimetype": "text/x-python",
      "name": "python",
      "nbconvert_exporter": "python",
      "pygments_lexer": "ipython3",
      "version": "3.13.0"
    }
  },
  "nbformat": 4,
  "nbformat_minor": 5
}
